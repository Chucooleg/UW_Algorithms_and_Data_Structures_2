{
 "cells": [
  {
   "cell_type": "markdown",
   "id": "a5cda4db",
   "metadata": {},
   "source": [
    "### Use QuickSelect to find Kth largest (streaming data)"
   ]
  },
  {
   "cell_type": "code",
   "execution_count": 48,
   "id": "6b50e00f",
   "metadata": {},
   "outputs": [],
   "source": [
    "def FindKthLargest_QuickSelect(A, K):\n",
    "    # Kth largest : index N-K\n",
    "    search_idx = len(A)-K\n",
    "    QuickSelect(A, 0, len(A)-1, search_idx)\n",
    "    return A[search_idx]"
   ]
  },
  {
   "cell_type": "code",
   "execution_count": 39,
   "id": "b46e0b6c",
   "metadata": {},
   "outputs": [],
   "source": [
    "def QuickSelect(A, start_idx, end_idx, search_idx):\n",
    "    if len(A) <= 1:\n",
    "        return\n",
    "    \n",
    "    pivotIndex = PickPivotIndex(A, start_idx, end_idx)\n",
    "    pivotFinalIndex = Partition(A, start_idx, end_idx, pivotIndex)\n",
    "    \n",
    "    if pivotFinalIndex == search_idx:\n",
    "        return\n",
    "    elif search_idx < pivotFinalIndex:\n",
    "        QuickSelect(A, start_idx, pivotFinalIndex-1, search_idx)\n",
    "    else:\n",
    "        QuickSelect(A, pivotFinalIndex+1, end_idx, search_idx)"
   ]
  },
  {
   "cell_type": "code",
   "execution_count": 5,
   "id": "ddf9fe60",
   "metadata": {},
   "outputs": [],
   "source": [
    "def PickPivotIndex(A, start_idx, end_idx):\n",
    "    return (start_idx + end_idx)//2\n",
    "\n",
    "def Partition(A, start_idx, end_idx, pivotIndex):\n",
    "    A[start_idx], A[pivotIndex] = A[pivotIndex], A[start_idx]\n",
    "    pointer = start_idx + 1\n",
    "    LeftMostBiggest = pointer\n",
    "    for i in range(pointer, end_idx+1):\n",
    "        if A[i] <= A[start_idx]:\n",
    "            A[i], A[LeftMostBiggest] = A[LeftMostBiggest], A[i]\n",
    "            LeftMostBiggest += 1\n",
    "            \n",
    "    pivotFinalIndex = LeftMostBiggest - 1\n",
    "    A[start_idx], A[pivotFinalIndex] = A[pivotFinalIndex], A[start_idx]\n",
    "    \n",
    "    return pivotFinalIndex"
   ]
  },
  {
   "cell_type": "code",
   "execution_count": 30,
   "id": "0cef044d",
   "metadata": {},
   "outputs": [],
   "source": [
    "def QuickSort(A, start_idx, end_idx):\n",
    "    if start_idx >= end_idx:\n",
    "        return\n",
    "    \n",
    "    pivotIndex = PickPivotIndex(A, start_idx, end_idx)\n",
    "    pivotFinalIndex = Partition(A, start_idx, end_idx, pivotIndex)\n",
    "    \n",
    "    QuickSort(A, start_idx, pivotFinalIndex-1)\n",
    "    QuickSort(A, pivotFinalIndex+1, end_idx)\n",
    "    \n",
    "    return A"
   ]
  },
  {
   "cell_type": "code",
   "execution_count": 34,
   "id": "254165b8",
   "metadata": {
    "scrolled": true
   },
   "outputs": [
    {
     "data": {
      "text/plain": [
       "[1, 2, 3, 4, 5, 100]"
      ]
     },
     "execution_count": 34,
     "metadata": {},
     "output_type": "execute_result"
    }
   ],
   "source": [
    "QuickSort(A=[4,3,1,100,2,5], start_idx=0, end_idx=5)"
   ]
  },
  {
   "cell_type": "code",
   "execution_count": 49,
   "id": "731c8305",
   "metadata": {},
   "outputs": [
    {
     "data": {
      "text/plain": [
       "2"
      ]
     },
     "execution_count": 49,
     "metadata": {},
     "output_type": "execute_result"
    }
   ],
   "source": [
    "A=[4,3,1,100,2,5]\n",
    "FindKthLargest_QuickSelect(A, K=5)"
   ]
  },
  {
   "cell_type": "markdown",
   "id": "da7d8b79",
   "metadata": {},
   "source": [
    "### Use Heap to find Kth largest (streaming data)"
   ]
  },
  {
   "cell_type": "code",
   "execution_count": 51,
   "id": "3eeef752",
   "metadata": {},
   "outputs": [],
   "source": [
    "import heapq"
   ]
  },
  {
   "cell_type": "code",
   "execution_count": 52,
   "id": "e85fd024",
   "metadata": {},
   "outputs": [],
   "source": [
    "def FindKthLargest_Heap(A, K):\n",
    "    h = []\n",
    "    \n",
    "    for num in A:\n",
    "        if len(h) < K:\n",
    "            heapq.heappush(h, num)\n",
    "        else:\n",
    "            if h[0] < num:\n",
    "                heapq.heappushpop(h, num)\n",
    "                \n",
    "    return h[0]"
   ]
  },
  {
   "cell_type": "code",
   "execution_count": 55,
   "id": "32d59e9e",
   "metadata": {},
   "outputs": [
    {
     "data": {
      "text/plain": [
       "3"
      ]
     },
     "execution_count": 55,
     "metadata": {},
     "output_type": "execute_result"
    }
   ],
   "source": [
    "FindKthLargest_Heap(A=[4,3,1,100,2,5], K=4)"
   ]
  },
  {
   "cell_type": "markdown",
   "id": "e118f292",
   "metadata": {},
   "source": [
    "### Use Two Heaps to find Median (streaming data)"
   ]
  },
  {
   "cell_type": "code",
   "execution_count": 77,
   "id": "c11ec21c",
   "metadata": {},
   "outputs": [],
   "source": [
    "def returnMedian(max_heap_left, min_heap_right, new_element):\n",
    "    \n",
    "    # Init\n",
    "    if len(max_heap_left) == 0 and len(min_heap_right) == 0:\n",
    "        heapq.heappush(min_heap_right, new_element)\n",
    "        return max_heap_left, min_heap_right, min_heap_right[0]\n",
    "    \n",
    "    # compare and put into one of the two heaps\n",
    "    if new_element >= min_heap_right[0]:\n",
    "        heapq.heappush(min_heap_right, new_element)\n",
    "    else:\n",
    "        heapq.heappush(max_heap_left, -new_element)\n",
    "        \n",
    "    # balance the two heaps\n",
    "    if len(min_heap_right) - len(max_heap_left) > 1:\n",
    "        move_element = heapq.heappop(min_heap_right)\n",
    "        heapq.heappush(max_heap_left, -move_element)\n",
    "    elif len(max_heap_left) - len(min_heap_right) > 1:\n",
    "        move_element = -heapq.heappop(max_heap_left)\n",
    "        heapq.heappush(min_heap_right, move_element)\n",
    "        \n",
    "    # return median\n",
    "    right_root = min_heap_right[0]\n",
    "    left_root = -max_heap_left[0] if len(max_heap_left) else 0\n",
    "    \n",
    "    if len(min_heap_right) == len(max_heap_left):\n",
    "        median = (right_root + left_root)/2.0\n",
    "    elif len(min_heap_right) > len(max_heap_left):\n",
    "        median = right_root\n",
    "    else:\n",
    "        median = left_root\n",
    "    \n",
    "    return max_heap_left, min_heap_right, median\n",
    "    "
   ]
  },
  {
   "cell_type": "code",
   "execution_count": 83,
   "id": "d340977f",
   "metadata": {},
   "outputs": [
    {
     "name": "stdout",
     "output_type": "stream",
     "text": [
      "[] [1] 1\n",
      "[-1] [10] 5.5\n",
      "[-3, -1] [10] 3\n",
      "[-3, -1] [4, 10] 3.5\n",
      "[-3, -1] [4, 10, 20] 4\n",
      "[-4, -1, -3] [10, 13, 20] 7.0\n",
      "[-4, -2, -3, -1] [10, 13, 20] 4\n"
     ]
    }
   ],
   "source": [
    "max_heap_left, min_heap_right = [], []\n",
    "\n",
    "for num in [1,10,3,4,20,13,2]:\n",
    "    max_heap_left, min_heap_right, median = returnMedian(\n",
    "        max_heap_left, min_heap_right, new_element=num)\n",
    "    print(max_heap_left, min_heap_right, median)"
   ]
  },
  {
   "cell_type": "markdown",
   "id": "6e767a6e",
   "metadata": {},
   "source": [
    "## Heap Implementation"
   ]
  },
  {
   "cell_type": "code",
   "execution_count": 86,
   "id": "5b11403e",
   "metadata": {},
   "outputs": [
    {
     "data": {
      "text/plain": [
       "2"
      ]
     },
     "execution_count": 86,
     "metadata": {},
     "output_type": "execute_result"
    }
   ],
   "source": [
    "import math\n",
    "\n",
    "int(math.log2(2 + 1)) + 1"
   ]
  },
  {
   "cell_type": "code",
   "execution_count": 91,
   "id": "053c95eb",
   "metadata": {},
   "outputs": [
    {
     "data": {
      "text/plain": [
       "0"
      ]
     },
     "execution_count": 91,
     "metadata": {},
     "output_type": "execute_result"
    }
   ],
   "source": [
    "def get_level(idx):\n",
    "    return int(math.log2(idx + 1))\n",
    "\n",
    "2**(get_level(2)) - 2"
   ]
  },
  {
   "cell_type": "code",
   "execution_count": 98,
   "id": "e3b79998",
   "metadata": {},
   "outputs": [
    {
     "data": {
      "text/plain": [
       "7"
      ]
     },
     "execution_count": 98,
     "metadata": {},
     "output_type": "execute_result"
    }
   ],
   "source": [
    "(16) // 2 - 1"
   ]
  },
  {
   "cell_type": "code",
   "execution_count": 181,
   "id": "be7d03d7",
   "metadata": {},
   "outputs": [],
   "source": [
    "class myHeap:\n",
    "    \n",
    "    def __init__(self, init_vals=None):\n",
    "        self.data = []\n",
    "        if init_vals:\n",
    "            self.data = self.heapify(init_vals)\n",
    "    \n",
    "    @staticmethod\n",
    "    def get_left_child_idx(idx):\n",
    "        return idx*2 + 1\n",
    "    \n",
    "    @staticmethod\n",
    "    def get_right_child_idx(idx):\n",
    "        return idx*2 + 2\n",
    "    \n",
    "    @staticmethod\n",
    "    def get_right_child_val(array, idx):\n",
    "        right_child_idx = myHeap.get_right_child_idx(idx)\n",
    "        if right_child_idx >= len(array):\n",
    "            return 1e8\n",
    "        else:\n",
    "            return array[right_child_idx]\n",
    "    \n",
    "    @staticmethod\n",
    "    def get_left_child_val(array, idx):\n",
    "        left_child_idx = myHeap.get_left_child_idx(idx)\n",
    "        if left_child_idx >= len(array):\n",
    "            return 1e8\n",
    "        else:\n",
    "            return array[left_child_idx]\n",
    "        \n",
    "    @staticmethod\n",
    "    def get_parent_idx(array, idx):\n",
    "        return max(0, (idx + 1) // 2 - 1)\n",
    "    \n",
    "    @staticmethod\n",
    "    def get_level(idx):\n",
    "        return int(math.log2(idx + 1))\n",
    "    \n",
    "    @staticmethod\n",
    "    def heapify(array):\n",
    "        # O(N)\n",
    "        \n",
    "        # work on nodes from pre-terminal level up to root\n",
    "        last_idx = len(array) - 1\n",
    "        last_preterminal_idx = 2**(myHeap.get_level(last_idx)) - 2\n",
    "        \n",
    "        # heapify down for each node\n",
    "        for node_idx in reversed(range(last_preterminal_idx+1)):\n",
    "            myHeap.heapify_down(array, node_idx)\n",
    "        \n",
    "        return array\n",
    "    \n",
    "    @staticmethod\n",
    "    def heapify_up(array, idx):\n",
    "        # O(log(N))\n",
    "        curr_idx = idx\n",
    "        parent_idx = myHeap.get_parent_idx(array, curr_idx)\n",
    "        while array[parent_idx] > array[curr_idx]:\n",
    "            array[parent_idx], array[curr_idx] = \\\n",
    "                array[curr_idx], array[parent_idx]\n",
    "            curr_idx = parent_idx\n",
    "            parent_idx = myHeap.get_parent_idx(array, curr_idx)\n",
    "    \n",
    "    @staticmethod\n",
    "    def heapify_down(array, idx):\n",
    "        # O(log(N))\n",
    "        curr_idx = idx\n",
    "        while min(myHeap.get_left_child_val(array, curr_idx), myHeap.get_right_child_val(array, curr_idx)) < array[curr_idx]:\n",
    "            if myHeap.get_left_child_val(array, curr_idx) < myHeap.get_right_child_val(array, curr_idx):\n",
    "                min_child_idx = myHeap.get_left_child_idx(curr_idx)\n",
    "            else:\n",
    "                min_child_idx = myHeap.get_right_child_idx(curr_idx)\n",
    "            try:\n",
    "                array[curr_idx], array[min_child_idx] = array[min_child_idx], array[curr_idx]\n",
    "            except:\n",
    "                breakpoint()\n",
    "            curr_idx = min_child_idx\n",
    "    \n",
    "    @staticmethod\n",
    "    def look_root(array):\n",
    "        return array[0]\n",
    "    \n",
    "    @staticmethod\n",
    "    def pop(array):\n",
    "        if len(array) == 0:\n",
    "            return\n",
    "        elif len(array) == 1:\n",
    "            last_e = array.pop()\n",
    "            return last_e\n",
    "        else:\n",
    "            last_e = array.pop()\n",
    "            root = array[0]\n",
    "            array[0] = last_e\n",
    "            # heapify down at the root\n",
    "            myHeap.heapify_down(array=array, idx=0)\n",
    "            return root\n",
    "        \n",
    "    @staticmethod\n",
    "    def push(array, e):\n",
    "        array.append(e)\n",
    "        # heapify up at the end of array\n",
    "        myHeap.heapify_up(array=array, idx=len(array)-1)\n"
   ]
  },
  {
   "cell_type": "code",
   "execution_count": 182,
   "id": "89d42b66",
   "metadata": {},
   "outputs": [],
   "source": [
    "h = myHeap([1,4,56,2,0,100, -100, -500])"
   ]
  },
  {
   "cell_type": "code",
   "execution_count": 183,
   "id": "7093a8e5",
   "metadata": {},
   "outputs": [
    {
     "data": {
      "text/plain": [
       "[-500, 0, -100, 2, 1, 100, 56, 4]"
      ]
     },
     "execution_count": 183,
     "metadata": {},
     "output_type": "execute_result"
    }
   ],
   "source": [
    "h.data"
   ]
  },
  {
   "cell_type": "code",
   "execution_count": 185,
   "id": "8170520a",
   "metadata": {},
   "outputs": [
    {
     "data": {
      "text/plain": [
       "__main__.myHeap"
      ]
     },
     "execution_count": 185,
     "metadata": {},
     "output_type": "execute_result"
    }
   ],
   "source": [
    "myHeap"
   ]
  },
  {
   "cell_type": "code",
   "execution_count": 186,
   "id": "20e4f162",
   "metadata": {},
   "outputs": [
    {
     "data": {
      "text/plain": [
       "[-500, 0, -100, 2, 1, 100, 56, 4]"
      ]
     },
     "execution_count": 186,
     "metadata": {},
     "output_type": "execute_result"
    }
   ],
   "source": [
    "h.data"
   ]
  },
  {
   "cell_type": "code",
   "execution_count": 191,
   "id": "6be53a99",
   "metadata": {},
   "outputs": [
    {
     "name": "stdout",
     "output_type": "stream",
     "text": [
      "[-500, 0, -100, 2, 1, 100, 56, 4, -50] 8 3\n"
     ]
    },
    {
     "data": {
      "text/plain": [
       "[-500, -50, -100, 0, 1, 100, 56, 4, 2]"
      ]
     },
     "execution_count": 191,
     "metadata": {},
     "output_type": "execute_result"
    }
   ],
   "source": [
    "A = [-500, 0, -100, 2, 1, 100, 56, 4]\n",
    "myHeap.push(A, -50)\n",
    "A"
   ]
  },
  {
   "cell_type": "code",
   "execution_count": 177,
   "id": "6ec878db",
   "metadata": {},
   "outputs": [
    {
     "data": {
      "text/plain": [
       "[-100, -50, 4, 0, 1, 100, 56, 2]"
      ]
     },
     "execution_count": 177,
     "metadata": {},
     "output_type": "execute_result"
    }
   ],
   "source": [
    "h.data"
   ]
  },
  {
   "cell_type": "code",
   "execution_count": null,
   "id": "54b02567",
   "metadata": {},
   "outputs": [],
   "source": [
    "   -100 \n",
    "-50     4 \n",
    "0 1  100 56 \n",
    "2"
   ]
  },
  {
   "cell_type": "code",
   "execution_count": null,
   "id": "3df31043",
   "metadata": {},
   "outputs": [],
   "source": []
  }
 ],
 "metadata": {
  "kernelspec": {
   "display_name": "Python 3",
   "language": "python",
   "name": "python3"
  },
  "language_info": {
   "codemirror_mode": {
    "name": "ipython",
    "version": 3
   },
   "file_extension": ".py",
   "mimetype": "text/x-python",
   "name": "python",
   "nbconvert_exporter": "python",
   "pygments_lexer": "ipython3",
   "version": "3.8.6"
  }
 },
 "nbformat": 4,
 "nbformat_minor": 5
}
